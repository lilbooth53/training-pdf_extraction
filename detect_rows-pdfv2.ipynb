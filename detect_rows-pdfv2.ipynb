{
 "cells": [
  {
   "cell_type": "markdown",
   "metadata": {},
   "source": [
    "# PDF Exctract"
   ]
  },
  {
   "cell_type": "code",
   "execution_count": 4,
   "metadata": {},
   "outputs": [],
   "source": [
    "import numpy as np\n",
    "import pandas as pd\n",
    "import os\n",
    "import re\n",
    "import importlib\n",
    "import matplotlib.pyplot as plt\n",
    "import seaborn as sns\n",
    "from matplotlib.path import Path\n",
    "from matplotlib.patches import PathPatch\n",
    "from imageio import imread\n",
    "\n",
    "import xbrl_image_parser as xip\n",
    "\n"
   ]
  },
  {
   "cell_type": "markdown",
   "metadata": {},
   "source": [
    "**Grab test PDF images. Xip is doing quite a bit here:**\n",
    "- Converting to PNG \n",
    "\n",
    "- Runs preprocessing (greyscale, black/white, etc.) \n",
    "\n",
    "- Applies OCR  \n",
    "\n",
    "- Find locations of elements on page + converts them to variabels  \n",
    "\n",
    "- Converts strings to numeric values where possible \n",
    "\n",
    "- Filters sheets by balance statement sheets only (spelling flags)  \n",
    "\n",
    "- Detects and extracts lines "
   ]
  },
  {
   "cell_type": "code",
   "execution_count": 5,
   "metadata": {},
   "outputs": [],
   "source": [
    "files = [filename.split(\".\")[0] for filename in os.listdir(\"./example_data_PDF\") if \".pdf\" in filename]\n",
    "\n",
    "def process(filename): \n",
    "    importlib.reload(xip)\n",
    "    df = xip.process_PDF('./example_data_PDF' + filename)\n",
    "    return df "
   ]
  },
  {
   "cell_type": "code",
   "execution_count": 6,
   "metadata": {},
   "outputs": [
    {
     "data": {
      "text/plain": [
       "['02266230', '2303730']"
      ]
     },
     "execution_count": 6,
     "metadata": {},
     "output_type": "execute_result"
    }
   ],
   "source": [
    "files[:2]"
   ]
  },
  {
   "cell_type": "markdown",
   "metadata": {},
   "source": [
    "**Apply new function process to iterarte over pdf's**"
   ]
  },
  {
   "cell_type": "code",
   "execution_count": null,
   "metadata": {},
   "outputs": [],
   "source": [
    "for file in files: \n",
    "    importlib.reload(xip)\n",
    "    results = xip.process_PDF(\"./example_data_PDF/\" + file + '.pdf')\n",
    "    results.to_csv('./v2_xip_output/' + file+'.csv')"
   ]
  },
  {
   "cell_type": "markdown",
   "metadata": {},
   "source": [
    "**New format is much more friendly**"
   ]
  },
  {
   "cell_type": "code",
   "execution_count": 33,
   "metadata": {},
   "outputs": [
    {
     "name": "stdout",
     "output_type": "stream",
     "text": [
      "Converting PDF image to multiple png files\n",
      "./example_data_PDF/02266230.pdf\n",
      "Performing pre-processing on all png images\n"
     ]
    },
    {
     "data": {
      "text/html": [
       "<div>\n",
       "<style scoped>\n",
       "    .dataframe tbody tr th:only-of-type {\n",
       "        vertical-align: middle;\n",
       "    }\n",
       "\n",
       "    .dataframe tbody tr th {\n",
       "        vertical-align: top;\n",
       "    }\n",
       "\n",
       "    .dataframe thead th {\n",
       "        text-align: right;\n",
       "    }\n",
       "</style>\n",
       "<table border=\"1\" class=\"dataframe\">\n",
       "  <thead>\n",
       "    <tr style=\"text-align: right;\">\n",
       "      <th></th>\n",
       "      <th>conf</th>\n",
       "      <th>currYr</th>\n",
       "      <th>label</th>\n",
       "      <th>source</th>\n",
       "      <th>value</th>\n",
       "      <th>year</th>\n",
       "      <th>unit</th>\n",
       "    </tr>\n",
       "  </thead>\n",
       "  <tbody>\n",
       "    <tr>\n",
       "      <th>0</th>\n",
       "      <td>96.0</td>\n",
       "      <td>1.0</td>\n",
       "      <td>Tangible assets</td>\n",
       "      <td>Tangible assets 10 358613 35963</td>\n",
       "      <td>358613</td>\n",
       "      <td>2015.0</td>\n",
       "      <td>£</td>\n",
       "    </tr>\n",
       "    <tr>\n",
       "      <th>1</th>\n",
       "      <td>96.0</td>\n",
       "      <td>0.0</td>\n",
       "      <td>Tangible assets</td>\n",
       "      <td>Tangible assets 10 358613 35963</td>\n",
       "      <td>35963</td>\n",
       "      <td>2014.0</td>\n",
       "      <td>£</td>\n",
       "    </tr>\n",
       "    <tr>\n",
       "      <th>2</th>\n",
       "      <td>95.0</td>\n",
       "      <td>1.0</td>\n",
       "      <td>Stocks</td>\n",
       "      <td>Stocks 11 657735 404931</td>\n",
       "      <td>657735</td>\n",
       "      <td>2015.0</td>\n",
       "      <td>£</td>\n",
       "    </tr>\n",
       "    <tr>\n",
       "      <th>3</th>\n",
       "      <td>96.0</td>\n",
       "      <td>0.0</td>\n",
       "      <td>Stocks</td>\n",
       "      <td>Stocks 11 657735 404931</td>\n",
       "      <td>404931</td>\n",
       "      <td>2014.0</td>\n",
       "      <td>£</td>\n",
       "    </tr>\n",
       "    <tr>\n",
       "      <th>4</th>\n",
       "      <td>96.0</td>\n",
       "      <td>1.0</td>\n",
       "      <td>Debtors</td>\n",
       "      <td>Debtors 12 19626898 36195849</td>\n",
       "      <td>19626898</td>\n",
       "      <td>2015.0</td>\n",
       "      <td>£</td>\n",
       "    </tr>\n",
       "    <tr>\n",
       "      <th>5</th>\n",
       "      <td>96.0</td>\n",
       "      <td>0.0</td>\n",
       "      <td>Debtors</td>\n",
       "      <td>Debtors 12 19626898 36195849</td>\n",
       "      <td>36195849</td>\n",
       "      <td>2014.0</td>\n",
       "      <td>£</td>\n",
       "    </tr>\n",
       "    <tr>\n",
       "      <th>6</th>\n",
       "      <td>96.0</td>\n",
       "      <td>1.0</td>\n",
       "      <td>Cash at bank and in hand</td>\n",
       "      <td>Cash at bank and in hand 953 4003</td>\n",
       "      <td>953</td>\n",
       "      <td>2015.0</td>\n",
       "      <td>£</td>\n",
       "    </tr>\n",
       "    <tr>\n",
       "      <th>7</th>\n",
       "      <td>96.0</td>\n",
       "      <td>0.0</td>\n",
       "      <td>Cash at bank and in hand</td>\n",
       "      <td>Cash at bank and in hand 953 4003</td>\n",
       "      <td>4003</td>\n",
       "      <td>2014.0</td>\n",
       "      <td>£</td>\n",
       "    </tr>\n",
       "    <tr>\n",
       "      <th>8</th>\n",
       "      <td>96.0</td>\n",
       "      <td>1.0</td>\n",
       "      <td>CREDITORS amounts falling due within one year</td>\n",
       "      <td>one year 13 18180602 33569518</td>\n",
       "      <td>18180602</td>\n",
       "      <td>2015.0</td>\n",
       "      <td>£</td>\n",
       "    </tr>\n",
       "    <tr>\n",
       "      <th>9</th>\n",
       "      <td>75.0</td>\n",
       "      <td>0.0</td>\n",
       "      <td>CREDITORS amounts falling due within one year</td>\n",
       "      <td>one year 13 18180602 33569518</td>\n",
       "      <td>33569518</td>\n",
       "      <td>2014.0</td>\n",
       "      <td>£</td>\n",
       "    </tr>\n",
       "    <tr>\n",
       "      <th>10</th>\n",
       "      <td>96.0</td>\n",
       "      <td>1.0</td>\n",
       "      <td>NET CURRENT ASSETS</td>\n",
       "      <td>NET CURRENT ASSETS 2104984 3035265</td>\n",
       "      <td>2104984</td>\n",
       "      <td>2015.0</td>\n",
       "      <td>£</td>\n",
       "    </tr>\n",
       "    <tr>\n",
       "      <th>11</th>\n",
       "      <td>95.0</td>\n",
       "      <td>0.0</td>\n",
       "      <td>NET CURRENT ASSETS</td>\n",
       "      <td>NET CURRENT ASSETS 2104984 3035265</td>\n",
       "      <td>3035265</td>\n",
       "      <td>2014.0</td>\n",
       "      <td>£</td>\n",
       "    </tr>\n",
       "    <tr>\n",
       "      <th>12</th>\n",
       "      <td>96.0</td>\n",
       "      <td>1.0</td>\n",
       "      <td>TOTAL ASSETS LESS CURRENT LIABILITIES</td>\n",
       "      <td>TOTAL ASSETS LESS CURRENT LIABILITIES 2463597 ...</td>\n",
       "      <td>2463597</td>\n",
       "      <td>2015.0</td>\n",
       "      <td>£</td>\n",
       "    </tr>\n",
       "    <tr>\n",
       "      <th>13</th>\n",
       "      <td>95.0</td>\n",
       "      <td>0.0</td>\n",
       "      <td>TOTAL ASSETS LESS CURRENT LIABILITIES</td>\n",
       "      <td>TOTAL ASSETS LESS CURRENT LIABILITIES 2463597 ...</td>\n",
       "      <td>3071228</td>\n",
       "      <td>2014.0</td>\n",
       "      <td>£</td>\n",
       "    </tr>\n",
       "    <tr>\n",
       "      <th>14</th>\n",
       "      <td>96.0</td>\n",
       "      <td>1.0</td>\n",
       "      <td>Other provisions</td>\n",
       "      <td>Other provisions 15 452315 428128</td>\n",
       "      <td>452315</td>\n",
       "      <td>2015.0</td>\n",
       "      <td>£</td>\n",
       "    </tr>\n",
       "    <tr>\n",
       "      <th>15</th>\n",
       "      <td>96.0</td>\n",
       "      <td>0.0</td>\n",
       "      <td>Other provisions</td>\n",
       "      <td>Other provisions 15 452315 428128</td>\n",
       "      <td>428128</td>\n",
       "      <td>2014.0</td>\n",
       "      <td>£</td>\n",
       "    </tr>\n",
       "    <tr>\n",
       "      <th>16</th>\n",
       "      <td>93.0</td>\n",
       "      <td>1.0</td>\n",
       "      <td>NET ASSETS</td>\n",
       "      <td>NET ASSETS 2009849 2643100</td>\n",
       "      <td>2009849</td>\n",
       "      <td>2015.0</td>\n",
       "      <td>£</td>\n",
       "    </tr>\n",
       "    <tr>\n",
       "      <th>17</th>\n",
       "      <td>96.0</td>\n",
       "      <td>0.0</td>\n",
       "      <td>NET ASSETS</td>\n",
       "      <td>NET ASSETS 2009849 2643100</td>\n",
       "      <td>2643100</td>\n",
       "      <td>2014.0</td>\n",
       "      <td>£</td>\n",
       "    </tr>\n",
       "    <tr>\n",
       "      <th>18</th>\n",
       "      <td>96.0</td>\n",
       "      <td>1.0</td>\n",
       "      <td>Called up share capital</td>\n",
       "      <td>Called up share capital 19 10000 10000</td>\n",
       "      <td>10000</td>\n",
       "      <td>2015.0</td>\n",
       "      <td>£</td>\n",
       "    </tr>\n",
       "    <tr>\n",
       "      <th>19</th>\n",
       "      <td>96.0</td>\n",
       "      <td>0.0</td>\n",
       "      <td>Called up share capital</td>\n",
       "      <td>Called up share capital 19 10000 10000</td>\n",
       "      <td>10000</td>\n",
       "      <td>2014.0</td>\n",
       "      <td>£</td>\n",
       "    </tr>\n",
       "    <tr>\n",
       "      <th>20</th>\n",
       "      <td>96.0</td>\n",
       "      <td>1.0</td>\n",
       "      <td>Capital redemption reserve</td>\n",
       "      <td>Capital redemption reserve 20 50 50</td>\n",
       "      <td>50</td>\n",
       "      <td>2015.0</td>\n",
       "      <td>£</td>\n",
       "    </tr>\n",
       "    <tr>\n",
       "      <th>21</th>\n",
       "      <td>97.0</td>\n",
       "      <td>0.0</td>\n",
       "      <td>Capital redemption reserve</td>\n",
       "      <td>Capital redemption reserve 20 50 50</td>\n",
       "      <td>50</td>\n",
       "      <td>2014.0</td>\n",
       "      <td>£</td>\n",
       "    </tr>\n",
       "    <tr>\n",
       "      <th>22</th>\n",
       "      <td>96.0</td>\n",
       "      <td>1.0</td>\n",
       "      <td>Profit and loss account</td>\n",
       "      <td>Profit and loss account 20 1999799 2633050</td>\n",
       "      <td>1999799</td>\n",
       "      <td>2015.0</td>\n",
       "      <td>£</td>\n",
       "    </tr>\n",
       "    <tr>\n",
       "      <th>23</th>\n",
       "      <td>96.0</td>\n",
       "      <td>0.0</td>\n",
       "      <td>Profit and loss account</td>\n",
       "      <td>Profit and loss account 20 1999799 2633050</td>\n",
       "      <td>2633050</td>\n",
       "      <td>2014.0</td>\n",
       "      <td>£</td>\n",
       "    </tr>\n",
       "    <tr>\n",
       "      <th>24</th>\n",
       "      <td>96.0</td>\n",
       "      <td>1.0</td>\n",
       "      <td>SHAREHOLDERS FUNDS</td>\n",
       "      <td>SHAREHOLDERS FUNDS 21 2009849 2643100</td>\n",
       "      <td>2009849</td>\n",
       "      <td>2015.0</td>\n",
       "      <td>£</td>\n",
       "    </tr>\n",
       "    <tr>\n",
       "      <th>25</th>\n",
       "      <td>96.0</td>\n",
       "      <td>0.0</td>\n",
       "      <td>SHAREHOLDERS FUNDS</td>\n",
       "      <td>SHAREHOLDERS FUNDS 21 2009849 2643100</td>\n",
       "      <td>2643100</td>\n",
       "      <td>2014.0</td>\n",
       "      <td>£</td>\n",
       "    </tr>\n",
       "  </tbody>\n",
       "</table>\n",
       "</div>"
      ],
      "text/plain": [
       "    conf  currYr                                          label  \\\n",
       "0   96.0     1.0                                Tangible assets   \n",
       "1   96.0     0.0                                Tangible assets   \n",
       "2   95.0     1.0                                         Stocks   \n",
       "3   96.0     0.0                                         Stocks   \n",
       "4   96.0     1.0                                        Debtors   \n",
       "5   96.0     0.0                                        Debtors   \n",
       "6   96.0     1.0                       Cash at bank and in hand   \n",
       "7   96.0     0.0                       Cash at bank and in hand   \n",
       "8   96.0     1.0  CREDITORS amounts falling due within one year   \n",
       "9   75.0     0.0  CREDITORS amounts falling due within one year   \n",
       "10  96.0     1.0                             NET CURRENT ASSETS   \n",
       "11  95.0     0.0                             NET CURRENT ASSETS   \n",
       "12  96.0     1.0          TOTAL ASSETS LESS CURRENT LIABILITIES   \n",
       "13  95.0     0.0          TOTAL ASSETS LESS CURRENT LIABILITIES   \n",
       "14  96.0     1.0                               Other provisions   \n",
       "15  96.0     0.0                               Other provisions   \n",
       "16  93.0     1.0                                     NET ASSETS   \n",
       "17  96.0     0.0                                     NET ASSETS   \n",
       "18  96.0     1.0                        Called up share capital   \n",
       "19  96.0     0.0                        Called up share capital   \n",
       "20  96.0     1.0                     Capital redemption reserve   \n",
       "21  97.0     0.0                     Capital redemption reserve   \n",
       "22  96.0     1.0                        Profit and loss account   \n",
       "23  96.0     0.0                        Profit and loss account   \n",
       "24  96.0     1.0                             SHAREHOLDERS FUNDS   \n",
       "25  96.0     0.0                             SHAREHOLDERS FUNDS   \n",
       "\n",
       "                                               source     value    year unit  \n",
       "0                     Tangible assets 10 358613 35963    358613  2015.0    £  \n",
       "1                     Tangible assets 10 358613 35963     35963  2014.0    £  \n",
       "2                             Stocks 11 657735 404931    657735  2015.0    £  \n",
       "3                             Stocks 11 657735 404931    404931  2014.0    £  \n",
       "4                        Debtors 12 19626898 36195849  19626898  2015.0    £  \n",
       "5                        Debtors 12 19626898 36195849  36195849  2014.0    £  \n",
       "6                   Cash at bank and in hand 953 4003       953  2015.0    £  \n",
       "7                   Cash at bank and in hand 953 4003      4003  2014.0    £  \n",
       "8                       one year 13 18180602 33569518  18180602  2015.0    £  \n",
       "9                       one year 13 18180602 33569518  33569518  2014.0    £  \n",
       "10                 NET CURRENT ASSETS 2104984 3035265   2104984  2015.0    £  \n",
       "11                 NET CURRENT ASSETS 2104984 3035265   3035265  2014.0    £  \n",
       "12  TOTAL ASSETS LESS CURRENT LIABILITIES 2463597 ...   2463597  2015.0    £  \n",
       "13  TOTAL ASSETS LESS CURRENT LIABILITIES 2463597 ...   3071228  2014.0    £  \n",
       "14                  Other provisions 15 452315 428128    452315  2015.0    £  \n",
       "15                  Other provisions 15 452315 428128    428128  2014.0    £  \n",
       "16                         NET ASSETS 2009849 2643100   2009849  2015.0    £  \n",
       "17                         NET ASSETS 2009849 2643100   2643100  2014.0    £  \n",
       "18             Called up share capital 19 10000 10000     10000  2015.0    £  \n",
       "19             Called up share capital 19 10000 10000     10000  2014.0    £  \n",
       "20                Capital redemption reserve 20 50 50        50  2015.0    £  \n",
       "21                Capital redemption reserve 20 50 50        50  2014.0    £  \n",
       "22         Profit and loss account 20 1999799 2633050   1999799  2015.0    £  \n",
       "23         Profit and loss account 20 1999799 2633050   2633050  2014.0    £  \n",
       "24              SHAREHOLDERS FUNDS 21 2009849 2643100   2009849  2015.0    £  \n",
       "25              SHAREHOLDERS FUNDS 21 2009849 2643100   2643100  2014.0    £  "
      ]
     },
     "execution_count": 33,
     "metadata": {},
     "output_type": "execute_result"
    }
   ],
   "source": [
    "## Test\n",
    "importlib.reload(xip)\n",
    "results = xip.process_PDF(\"./example_data_PDF/\" + t)\n",
    "results"
   ]
  },
  {
   "cell_type": "markdown",
   "metadata": {},
   "source": [
    "## EDA of Balance Sheets"
   ]
  },
  {
   "cell_type": "markdown",
   "metadata": {},
   "source": [
    "**Extract all pdf's**"
   ]
  },
  {
   "cell_type": "code",
   "execution_count": 41,
   "metadata": {},
   "outputs": [],
   "source": [
    "balance_sheets = dict()\n",
    "files = [filename.split(\".\")[0] for filename in os.listdir(\"./example_data_PDF\") if \".pdf\" in filename]\n",
    "for file in files: \n",
    "    balance_sheets[str(file)] = pd.read_csv('./v2_xip_output/' +file + '.csv')"
   ]
  },
  {
   "cell_type": "code",
   "execution_count": 236,
   "metadata": {},
   "outputs": [],
   "source": [
    "index = list(files)\n",
    "financials = pd.DataFrame(index).reset_index()\n",
    "financials['Assets'] = 0\n",
    "financials['PL'] = 0"
   ]
  },
  {
   "cell_type": "markdown",
   "metadata": {},
   "source": [
    "**Pull financial Data**\n",
    "- Stuck to Assets Less Liabilities and Profit and Loss Ratio for time being"
   ]
  },
  {
   "cell_type": "code",
   "execution_count": 237,
   "metadata": {},
   "outputs": [],
   "source": [
    "for i in range(len(files)): \n",
    "    balance_sheets[files[i]]['label'] = balance_sheets[files[i]]['label'].str.upper()\n",
    "    try: \n",
    "        assets = list(balance_sheets[files[i]][balance_sheets[files[i]]['label'].str.contains('ASSETS LESS')]['source'][:1].str.split()).pop(0)\n",
    "        pl = list(baalance_sheets[files[i]][balance_sheets[files[i]]['label'].str.contains('PROFIT AND LOSS')]['source'][:1].str.split()).pop(0)\n",
    "        financials['Assets'][i] = assets[5]\n",
    "        financials['PL'][i] = pl[4]\n",
    "    except: IndexError"
   ]
  },
  {
   "cell_type": "code",
   "execution_count": 238,
   "metadata": {},
   "outputs": [],
   "source": [
    "financials = financials.drop(columns = 'index')\n",
    "financials = financials.rename(columns = {0 : 'id'})"
   ]
  },
  {
   "cell_type": "code",
   "execution_count": 246,
   "metadata": {},
   "outputs": [
    {
     "data": {
      "text/html": [
       "<div>\n",
       "<style scoped>\n",
       "    .dataframe tbody tr th:only-of-type {\n",
       "        vertical-align: middle;\n",
       "    }\n",
       "\n",
       "    .dataframe tbody tr th {\n",
       "        vertical-align: top;\n",
       "    }\n",
       "\n",
       "    .dataframe thead th {\n",
       "        text-align: right;\n",
       "    }\n",
       "</style>\n",
       "<table border=\"1\" class=\"dataframe\">\n",
       "  <thead>\n",
       "    <tr style=\"text-align: right;\">\n",
       "      <th></th>\n",
       "      <th>id</th>\n",
       "      <th>Assets</th>\n",
       "      <th>PL</th>\n",
       "    </tr>\n",
       "  </thead>\n",
       "  <tbody>\n",
       "    <tr>\n",
       "      <th>0</th>\n",
       "      <td>02266230</td>\n",
       "      <td>2463597</td>\n",
       "      <td>20</td>\n",
       "    </tr>\n",
       "    <tr>\n",
       "      <th>1</th>\n",
       "      <td>2303730</td>\n",
       "      <td>65588</td>\n",
       "      <td>17</td>\n",
       "    </tr>\n",
       "    <tr>\n",
       "      <th>2</th>\n",
       "      <td>1983517</td>\n",
       "      <td>15933573</td>\n",
       "      <td>15933473</td>\n",
       "    </tr>\n",
       "    <tr>\n",
       "      <th>3</th>\n",
       "      <td>04558828</td>\n",
       "      <td>0</td>\n",
       "      <td>0</td>\n",
       "    </tr>\n",
       "    <tr>\n",
       "      <th>4</th>\n",
       "      <td>06034603</td>\n",
       "      <td>82877</td>\n",
       "      <td>80376</td>\n",
       "    </tr>\n",
       "    <tr>\n",
       "      <th>5</th>\n",
       "      <td>00553535</td>\n",
       "      <td>0</td>\n",
       "      <td>0</td>\n",
       "    </tr>\n",
       "    <tr>\n",
       "      <th>6</th>\n",
       "      <td>00053475</td>\n",
       "      <td>0</td>\n",
       "      <td>0</td>\n",
       "    </tr>\n",
       "    <tr>\n",
       "      <th>7</th>\n",
       "      <td>00002404</td>\n",
       "      <td>51346</td>\n",
       "      <td>20</td>\n",
       "    </tr>\n",
       "    <tr>\n",
       "      <th>8</th>\n",
       "      <td>01539777</td>\n",
       "      <td>10514824</td>\n",
       "      <td>9294403</td>\n",
       "    </tr>\n",
       "    <tr>\n",
       "      <th>9</th>\n",
       "      <td>06005142</td>\n",
       "      <td>0</td>\n",
       "      <td>0</td>\n",
       "    </tr>\n",
       "    <tr>\n",
       "      <th>10</th>\n",
       "      <td>02430955</td>\n",
       "      <td>9493</td>\n",
       "      <td>155044</td>\n",
       "    </tr>\n",
       "    <tr>\n",
       "      <th>11</th>\n",
       "      <td>00983951</td>\n",
       "      <td>16784</td>\n",
       "      <td>6463</td>\n",
       "    </tr>\n",
       "    <tr>\n",
       "      <th>12</th>\n",
       "      <td>00782931</td>\n",
       "      <td>9848515</td>\n",
       "      <td>21</td>\n",
       "    </tr>\n",
       "    <tr>\n",
       "      <th>13</th>\n",
       "      <td>01370175</td>\n",
       "      <td>2436</td>\n",
       "      <td>1963</td>\n",
       "    </tr>\n",
       "    <tr>\n",
       "      <th>14</th>\n",
       "      <td>2765595</td>\n",
       "      <td>0</td>\n",
       "      <td>0</td>\n",
       "    </tr>\n",
       "    <tr>\n",
       "      <th>15</th>\n",
       "      <td>01002610</td>\n",
       "      <td>714065</td>\n",
       "      <td>147644</td>\n",
       "    </tr>\n",
       "    <tr>\n",
       "      <th>16</th>\n",
       "      <td>01804186</td>\n",
       "      <td>0</td>\n",
       "      <td>0</td>\n",
       "    </tr>\n",
       "    <tr>\n",
       "      <th>17</th>\n",
       "      <td>00030177</td>\n",
       "      <td>127963</td>\n",
       "      <td>70699</td>\n",
       "    </tr>\n",
       "  </tbody>\n",
       "</table>\n",
       "</div>"
      ],
      "text/plain": [
       "          id    Assets        PL\n",
       "0   02266230   2463597        20\n",
       "1    2303730     65588        17\n",
       "2    1983517  15933573  15933473\n",
       "3   04558828         0         0\n",
       "4   06034603     82877     80376\n",
       "5   00553535         0         0\n",
       "6   00053475         0         0\n",
       "7   00002404     51346        20\n",
       "8   01539777  10514824   9294403\n",
       "9   06005142         0         0\n",
       "10  02430955      9493    155044\n",
       "11  00983951     16784      6463\n",
       "12  00782931   9848515        21\n",
       "13  01370175      2436      1963\n",
       "14   2765595         0         0\n",
       "15  01002610    714065    147644\n",
       "16  01804186         0         0\n",
       "17  00030177    127963     70699"
      ]
     },
     "execution_count": 246,
     "metadata": {},
     "output_type": "execute_result"
    }
   ],
   "source": [
    "financials"
   ]
  },
  {
   "cell_type": "code",
   "execution_count": 240,
   "metadata": {},
   "outputs": [
    {
     "data": {
      "text/html": [
       "<div>\n",
       "<style scoped>\n",
       "    .dataframe tbody tr th:only-of-type {\n",
       "        vertical-align: middle;\n",
       "    }\n",
       "\n",
       "    .dataframe tbody tr th {\n",
       "        vertical-align: top;\n",
       "    }\n",
       "\n",
       "    .dataframe thead th {\n",
       "        text-align: right;\n",
       "    }\n",
       "</style>\n",
       "<table border=\"1\" class=\"dataframe\">\n",
       "  <thead>\n",
       "    <tr style=\"text-align: right;\">\n",
       "      <th></th>\n",
       "      <th>Unnamed: 0</th>\n",
       "      <th>conf</th>\n",
       "      <th>currYr</th>\n",
       "      <th>label</th>\n",
       "      <th>source</th>\n",
       "      <th>value</th>\n",
       "      <th>year</th>\n",
       "      <th>unit</th>\n",
       "    </tr>\n",
       "  </thead>\n",
       "  <tbody>\n",
       "    <tr>\n",
       "      <th>28</th>\n",
       "      <td>28</td>\n",
       "      <td>96.0</td>\n",
       "      <td>1.0</td>\n",
       "      <td>PROFIT AND LOSS ACCOUNT</td>\n",
       "      <td>Profit and Loss Account 70699 71354</td>\n",
       "      <td>70699</td>\n",
       "      <td>2016.0</td>\n",
       "      <td>£000</td>\n",
       "    </tr>\n",
       "    <tr>\n",
       "      <th>29</th>\n",
       "      <td>29</td>\n",
       "      <td>94.0</td>\n",
       "      <td>0.0</td>\n",
       "      <td>PROFIT AND LOSS ACCOUNT</td>\n",
       "      <td>Profit and Loss Account 70699 71354</td>\n",
       "      <td>71354</td>\n",
       "      <td>2015.0</td>\n",
       "      <td>£000</td>\n",
       "    </tr>\n",
       "  </tbody>\n",
       "</table>\n",
       "</div>"
      ],
      "text/plain": [
       "    Unnamed: 0  conf  currYr                    label  \\\n",
       "28          28  96.0     1.0  PROFIT AND LOSS ACCOUNT   \n",
       "29          29  94.0     0.0  PROFIT AND LOSS ACCOUNT   \n",
       "\n",
       "                                 source  value    year  unit  \n",
       "28  Profit and Loss Account 70699 71354  70699  2016.0  £000  \n",
       "29  Profit and Loss Account 70699 71354  71354  2015.0  £000  "
      ]
     },
     "execution_count": 240,
     "metadata": {},
     "output_type": "execute_result"
    }
   ],
   "source": [
    "balance_sheets['00030177'][balance_sheets['00030177']['label'].str.contains('PROFIT')]"
   ]
  },
  {
   "cell_type": "code",
   "execution_count": 241,
   "metadata": {},
   "outputs": [],
   "source": [
    "for i in range(len(financials)): \n",
    "    if financials['PL'][i] == '.':\n",
    "        financials['PL'][i] = 0"
   ]
  },
  {
   "cell_type": "markdown",
   "metadata": {},
   "source": [
    "**Plot**"
   ]
  },
  {
   "cell_type": "code",
   "execution_count": 242,
   "metadata": {},
   "outputs": [],
   "source": [
    "financials.PL = financials.PL.astype('int')"
   ]
  },
  {
   "cell_type": "code",
   "execution_count": 243,
   "metadata": {},
   "outputs": [
    {
     "data": {
      "text/plain": [
       "<matplotlib.axes._subplots.AxesSubplot at 0x7fd38105efd0>"
      ]
     },
     "execution_count": 243,
     "metadata": {},
     "output_type": "execute_result"
    },
    {
     "data": {
      "image/png": "[encoded data removed]",
      "text/plain": [
       "<Figure size 432x288 with 1 Axes>"
      ]
     },
     "metadata": {
      "needs_background": "light"
     },
     "output_type": "display_data"
    }
   ],
   "source": [
    "financials.groupby('id')['Assets'].sum().sort_values(ascending = False).plot(kind ='bar')"
   ]
  },
  {
   "cell_type": "code",
   "execution_count": 244,
   "metadata": {},
   "outputs": [
    {
     "data": {
      "text/plain": [
       "<matplotlib.axes._subplots.AxesSubplot at 0x7fd38106ca90>"
      ]
     },
     "execution_count": 244,
     "metadata": {},
     "output_type": "execute_result"
    },
    {
     "data": {
      "image/png": "[encoded data removed]",
      "text/plain": [
       "<Figure size 432x288 with 1 Axes>"
      ]
     },
     "metadata": {
      "needs_background": "light"
     },
     "output_type": "display_data"
    }
   ],
   "source": [
    "financials.groupby('id')['PL'].sum().sort_values(ascending = False).plot(kind ='bar')"
   ]
  },
  {
   "cell_type": "code",
   "execution_count": 245,
   "metadata": {},
   "outputs": [
    {
     "data": {
      "text/plain": [
       "<matplotlib.axes._subplots.AxesSubplot at 0x7fd3a0a9c990>"
      ]
     },
     "execution_count": 245,
     "metadata": {},
     "output_type": "execute_result"
    },
    {
     "data": {
      "image/png": "[encoded data removed]",
      "text/plain": [
       "<Figure size 360x360 with 2 Axes>"
      ]
     },
     "metadata": {
      "needs_background": "light"
     },
     "output_type": "display_data"
    }
   ],
   "source": [
    "import seaborn as sns\n",
    "corr = financials.set_index('id').corr()\n",
    "f, ax = plt.subplots(figsize = (5,5))\n",
    "sns.heatmap(corr,)"
   ]
  },
  {
   "cell_type": "markdown",
   "metadata": {},
   "source": [
    "## **Takeaways with this method:**\n",
    "- Format is much more friendly\n",
    "- Separation of data is better. Not great, but easier to navigate\n",
    "- Accurate extraction for the most part, depends on quality of scan or input\n"
   ]
  },
  {
   "cell_type": "code",
   "execution_count": null,
   "metadata": {},
   "outputs": [],
   "source": []
  }
 ],
 "metadata": {
  "kernelspec": {
   "display_name": "Python 3",
   "language": "python",
   "name": "python3"
  },
  "language_info": {
   "codemirror_mode": {
    "name": "ipython",
    "version": 3
   },
   "file_extension": ".py",
   "mimetype": "text/x-python",
   "name": "python",
   "nbconvert_exporter": "python",
   "pygments_lexer": "ipython3",
   "version": "3.7.6"
  }
 },
 "nbformat": 4,
 "nbformat_minor": 4
}
