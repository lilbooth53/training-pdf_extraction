{
 "cells": [
  {
   "cell_type": "markdown",
   "metadata": {},
   "source": [
    "## PDF Detection V1"
   ]
  },
  {
   "cell_type": "code",
   "execution_count": 1,
   "metadata": {},
   "outputs": [],
   "source": [
    "import numpy as np\n",
    "import pandas as pd\n",
    "import sys\n",
    "import os\n",
    "import pytesseract                            # API for letting python interface with Google's tesseract OCR software\n",
    "\n",
    "import cv2                                    # Open Computer Vision library\n",
    "import PyPDF2                                 # All things PDF format related\n",
    "import io                                     # Something about messing with memory\n",
    "from wand.image import Image                  # For messing with images\n",
    "from PIL import Image as Im                   # Likewise images\n",
    "import codecs                                 # Unknown"
   ]
  },
  {
   "cell_type": "markdown",
   "metadata": {},
   "source": [
    "**import data**\n",
    "- Extract each page of each PDF\n",
    "- Convert each page to PNG"
   ]
  },
  {
   "cell_type": "code",
   "execution_count": 2,
   "metadata": {},
   "outputs": [],
   "source": [
    "# Alternative process that uses command-line tool pdftocairo directly\n",
    "def pdf_reader_cairo(filename):\n",
    "    os.system(\"pdftocairo -r 300 -png ./example_data_PDF/\" + filename + \".pdf ./converted/\" + filename)\n",
    "    return(\"Converted \" + filename + \" to png\")"
   ]
  },
  {
   "cell_type": "code",
   "execution_count": 3,
   "metadata": {},
   "outputs": [],
   "source": [
    "# Grab filenames \n",
    "files = [filename.split(\".\")[0] for filename in os.listdir(\"./example_data_PDF\") if \".pdf\" in filename]"
   ]
  },
  {
   "cell_type": "markdown",
   "metadata": {},
   "source": [
    "**Convert PDF to PNG**"
   ]
  },
  {
   "cell_type": "code",
   "execution_count": null,
   "metadata": {},
   "outputs": [],
   "source": [
    "for filename in files:\n",
    "    print(pdf_reader_cairo(filename))"
   ]
  },
  {
   "cell_type": "markdown",
   "metadata": {},
   "source": [
    "**Apply image transmutes to promote readability of machine**"
   ]
  },
  {
   "cell_type": "code",
   "execution_count": 6,
   "metadata": {},
   "outputs": [],
   "source": [
    "# Read in images, greyscale, apply filters, save\n",
    "def pre_process(filename):\n",
    "    \n",
    "    png_files = [pngname for pngname in os.listdir(\"./converted\") if filename in pngname]\n",
    "    \n",
    "    for pngname in png_files:\n",
    "        \n",
    "        # Convert to greyscale\n",
    "        concatenated = cv2.imread('./converted/'+pngname, 0)\n",
    "    \n",
    "        # Threshold image to black/white \n",
    "        num, grey_composite = cv2.threshold(concatenated, 127, 255, cv2.THRESH_BINARY)\n",
    "    \n",
    "        # inverting image\n",
    "        inverted_composite = 255-grey_composite\n",
    "    \n",
    "        # Perform closing, dilation and erosion\n",
    "        kernel = np.ones((2,2), np.uint8) \n",
    "        closed_composite = cv2.morphologyEx(inverted_composite, cv2.MORPH_CLOSE, kernel)\n",
    "        \n",
    "        # Undo inversion\n",
    "        closed_composite = 255-closed_composite\n",
    "        \n",
    "        # Write to file ready for OCR\n",
    "        cv2.imwrite(\"./preprocessed/\"+pngname, closed_composite)\n",
    "        \n",
    "    print(\"Image pre-processing complete for \" + filename)\n",
    "\n",
    "    return(1)"
   ]
  },
  {
   "cell_type": "code",
   "execution_count": null,
   "metadata": {},
   "outputs": [],
   "source": [
    "# Apply preprocessing\n",
    "for file in files: \n",
    "    pre_process(file)"
   ]
  },
  {
   "cell_type": "markdown",
   "metadata": {},
   "source": [
    "**Apply OCR to every Pre Proccessed Image**\n",
    "- OCR is Optical Character Recognition. OCR systems transform a two-dimensional image of text into machine-readable text\n",
    "- We spit these out into a CSV so we can inspect the data manually."
   ]
  },
  {
   "cell_type": "code",
   "execution_count": null,
   "metadata": {},
   "outputs": [],
   "source": [
    "for filename in files:\n",
    "    \n",
    "    #find all of the pre-processed pages\n",
    "    png_files = [pngname for pngname in os.listdir(\"./preprocessed\") if filename in pngname]\n",
    "    \n",
    "    for pngname in png_files:\n",
    "        # Iterate through all of the pages\n",
    "        f = open(\"./ocr_output/\"+pngname+\"._ocr_data.csv\", \"w\")\n",
    "        f.write(pytesseract.image_to_data(Im.open(\"./preprocessed/\"+pngname)))\n",
    "        f.close()\n",
    "        print(\"OCR'ed \" + pngname)\n"
   ]
  },
  {
   "cell_type": "code",
   "execution_count": null,
   "metadata": {},
   "outputs": [],
   "source": [
    "# Iterate through original filenames, create one csv of extracted data per files\n",
    "for filename in files:\n",
    "    \n",
    "    # Blank DF for data\n",
    "    df_doc = pd.DataFrame()\n",
    "    \n",
    "    #find all of the pre-processed pages\n",
    "    csv_files = sorted([csvname for csvname in os.listdir(\"./ocr_output\") if filename in csvname])\n",
    "    \n",
    "    csv_num = 1\n",
    "    \n",
    "    for each in csv_files:\n",
    "        \n",
    "        try:\n",
    "            # Reading csv is tricky, weird save format separated by spaces + tabs\n",
    "            df_page = pd.read_csv(\"./ocr_output/\" + each,\n",
    "                                  sep=' |\\t',\n",
    "                                  error_bad_lines=False,\n",
    "                                  engine='python')\n",
    "        \n",
    "            # Append csv (page) number\n",
    "            df_page['csv_num'] = csv_num\n",
    "        \n",
    "            df_doc = df_doc.append(df_page)\n",
    "            \n",
    "            print(\"Processed \"+filename+\" page \"+str(csv_num))\n",
    "            csv_num = csv_num + 1\n",
    "        \n",
    "        except:\n",
    "            print(\"Failed on \"+filename+\" page\"+str(csv_num))\n",
    "            csv_num = csv_num + 1\n",
    "    \n",
    "    \n",
    "    df_doc.to_csv(\"./ocr_output_compiled/\"+filename+\".csv\")"
   ]
  },
  {
   "cell_type": "markdown",
   "metadata": {},
   "source": [
    "### **Takeaways with this method:**\n",
    "- It's a good beginner step into the Extracting PDF world, but lacks funcitonality. We don't want to have to look line \n",
    "by line for the data we're looking for and makes understanding the data difficult."
   ]
  },
  {
   "cell_type": "code",
   "execution_count": null,
   "metadata": {},
   "outputs": [],
   "source": []
  }
 ],
 "metadata": {
  "kernelspec": {
   "display_name": "Python 3",
   "language": "python",
   "name": "python3"
  },
  "language_info": {
   "codemirror_mode": {
    "name": "ipython",
    "version": 3
   },
   "file_extension": ".py",
   "mimetype": "text/x-python",
   "name": "python",
   "nbconvert_exporter": "python",
   "pygments_lexer": "ipython3",
   "version": "3.7.6"
  }
 },
 "nbformat": 4,
 "nbformat_minor": 4
}
